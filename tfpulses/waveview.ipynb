{
 "metadata": {
  "name": ""
 },
 "nbformat": 3,
 "nbformat_minor": 0,
 "worksheets": [
  {
   "cells": [
    {
     "cell_type": "code",
     "collapsed": false,
     "input": [
      "%matplotlib inline\n",
      "\n",
      "import tfpulses\n",
      "import importlib\n",
      "import matplotlib.pyplot as plt\n",
      "\n",
      "importlib.reload(tfpulses)\n",
      "samples, trigger = tfpulses.makewave()\n",
      "\n",
      "plt.figure(figsize=(15,5))\n",
      "plt.plot(samples)\n",
      "plt.stem(5*trigger);"
     ],
     "language": "python",
     "metadata": {},
     "outputs": []
    }
   ],
   "metadata": {}
  }
 ]
}