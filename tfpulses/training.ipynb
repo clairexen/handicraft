{
 "metadata": {
  "name": ""
 },
 "nbformat": 3,
 "nbformat_minor": 0,
 "worksheets": [
  {
   "cells": [
    {
     "cell_type": "code",
     "collapsed": false,
     "input": [
      "%matplotlib inline\n",
      "import tfpulses\n",
      "\n",
      "T = tfpulses.trainer()\n",
      "T.setup()\n",
      "\n",
      "T.load_or_train(\"model\", 10000)\n",
      "T.run_testing()"
     ],
     "language": "python",
     "metadata": {},
     "outputs": []
    }
   ],
   "metadata": {}
  }
 ]
}