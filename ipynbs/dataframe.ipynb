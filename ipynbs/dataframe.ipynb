{
 "metadata": {
  "name": ""
 },
 "nbformat": 3,
 "nbformat_minor": 0,
 "worksheets": [
  {
   "cells": [
    {
     "cell_type": "code",
     "collapsed": false,
     "input": [
      "import numpy as np\n",
      "from IPython.display import display\n",
      "from pandas import DataFrame"
     ],
     "language": "python",
     "metadata": {},
     "outputs": [],
     "prompt_number": 4
    },
    {
     "cell_type": "code",
     "collapsed": false,
     "input": [
      "data = np.random.rand(5, 5)\n",
      "display(DataFrame(data))"
     ],
     "language": "python",
     "metadata": {},
     "outputs": [
      {
       "html": [
        "<div style=\"max-height:1000px;max-width:1500px;overflow:auto;\">\n",
        "<table border=\"1\" class=\"dataframe\">\n",
        "  <thead>\n",
        "    <tr style=\"text-align: right;\">\n",
        "      <th></th>\n",
        "      <th>0</th>\n",
        "      <th>1</th>\n",
        "      <th>2</th>\n",
        "      <th>3</th>\n",
        "      <th>4</th>\n",
        "    </tr>\n",
        "  </thead>\n",
        "  <tbody>\n",
        "    <tr>\n",
        "      <th>0</th>\n",
        "      <td> 0.048348</td>\n",
        "      <td> 0.469637</td>\n",
        "      <td> 0.669706</td>\n",
        "      <td> 0.955096</td>\n",
        "      <td> 0.889416</td>\n",
        "    </tr>\n",
        "    <tr>\n",
        "      <th>1</th>\n",
        "      <td> 0.624849</td>\n",
        "      <td> 0.742691</td>\n",
        "      <td> 0.464603</td>\n",
        "      <td> 0.617381</td>\n",
        "      <td> 0.555635</td>\n",
        "    </tr>\n",
        "    <tr>\n",
        "      <th>2</th>\n",
        "      <td> 0.472138</td>\n",
        "      <td> 0.361027</td>\n",
        "      <td> 0.702933</td>\n",
        "      <td> 0.888706</td>\n",
        "      <td> 0.609624</td>\n",
        "    </tr>\n",
        "    <tr>\n",
        "      <th>3</th>\n",
        "      <td> 0.337507</td>\n",
        "      <td> 0.741190</td>\n",
        "      <td> 0.182411</td>\n",
        "      <td> 0.466530</td>\n",
        "      <td> 0.601005</td>\n",
        "    </tr>\n",
        "    <tr>\n",
        "      <th>4</th>\n",
        "      <td> 0.668076</td>\n",
        "      <td> 0.356232</td>\n",
        "      <td> 0.362822</td>\n",
        "      <td> 0.455552</td>\n",
        "      <td> 0.580135</td>\n",
        "    </tr>\n",
        "  </tbody>\n",
        "</table>\n",
        "<p>5 rows \u00d7 5 columns</p>\n",
        "</div>"
       ],
       "metadata": {},
       "output_type": "display_data",
       "text": [
        "          0         1         2         3         4\n",
        "0  0.048348  0.469637  0.669706  0.955096  0.889416\n",
        "1  0.624849  0.742691  0.464603  0.617381  0.555635\n",
        "2  0.472138  0.361027  0.702933  0.888706  0.609624\n",
        "3  0.337507  0.741190  0.182411  0.466530  0.601005\n",
        "4  0.668076  0.356232  0.362822  0.455552  0.580135\n",
        "\n",
        "[5 rows x 5 columns]"
       ]
      }
     ],
     "prompt_number": 5
    }
   ],
   "metadata": {}
  }
 ]
}