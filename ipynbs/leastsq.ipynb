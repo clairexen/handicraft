{
 "metadata": {
  "name": ""
 },
 "nbformat": 3,
 "nbformat_minor": 0,
 "worksheets": [
  {
   "cells": [
    {
     "cell_type": "code",
     "collapsed": false,
     "input": [
      "import numpy as np\n",
      "from scipy.optimize import leastsq"
     ],
     "language": "python",
     "metadata": {},
     "outputs": [],
     "prompt_number": 1
    },
    {
     "cell_type": "markdown",
     "metadata": {},
     "source": [
      "We observe $\\vec x$ via a nonlinear function $f(\\vec x)$ with Jacobian $\\mathbf J$, superimposed with centered gaussian noise with (co-)variance $\\mathbf S$: $\\vec y = f(\\vec x) + N(0, \\mathbf S)$"
     ]
    },
    {
     "cell_type": "code",
     "collapsed": false,
     "input": [
      "# problem size\n",
      "dim_x = 3\n",
      "dim_y = 1000\n",
      "\n",
      "# f() is actually linear in this test\n",
      "J = np.random.rand(dim_y, dim_x)\n",
      "\n",
      "# variance of y\n",
      "S = np.exp(5 * np.random.rand(dim_y)) - 0.99\n",
      "\n",
      "# pick x and y\n",
      "x = 20 * np.random.randn(dim_x)\n",
      "y = J.dot(x) + S * np.random.randn(dim_y)"
     ],
     "language": "python",
     "metadata": {},
     "outputs": [],
     "prompt_number": 2
    },
    {
     "cell_type": "code",
     "collapsed": false,
     "input": [
      "# find estimation of 'x' (ignoring variance of y)\n",
      "\n",
      "def f(p):\n",
      "    return J.dot(p) - y\n",
      "\n",
      "def D(p):\n",
      "    return J\n",
      "\n",
      "est_x, cov_x, *_ = leastsq(f, np.zeros(dim_x), (), D, full_output=True)\n",
      "print(est_x / x)\n",
      "\n",
      "# re-create covariance matrix returned by leastsq\n",
      "C = np.linalg.inv(J.transpose().dot(J))\n",
      "print(C / cov_x)"
     ],
     "language": "python",
     "metadata": {},
     "outputs": [
      {
       "output_type": "stream",
       "stream": "stdout",
       "text": [
        "[ 0.59879162  1.11335543  0.53188718]\n",
        "[[ 1.  1.  1.]\n",
        " [ 1.  1.  1.]\n",
        " [ 1.  1.  1.]]\n"
       ]
      }
     ],
     "prompt_number": 3
    },
    {
     "cell_type": "code",
     "collapsed": false,
     "input": [
      "# find estimation of 'x' (using variance of y)\n",
      "\n",
      "def f(p):\n",
      "    return (J.dot(p) - y) / np.sqrt(S)\n",
      "\n",
      "def D(p):\n",
      "    return np.diag(1/np.sqrt(S)).dot(J)\n",
      "\n",
      "est_x, cov_x, *_ = leastsq(f, np.zeros(dim_x), (), D, full_output=True)\n",
      "print(est_x / x)\n",
      "\n",
      "# re-create covariance matrix returned by leastsq\n",
      "C = np.linalg.inv(J.transpose().dot(np.diag(1/S)).dot(J))\n",
      "print(C / cov_x)"
     ],
     "language": "python",
     "metadata": {},
     "outputs": [
      {
       "output_type": "stream",
       "stream": "stdout",
       "text": [
        "[ 0.9973453   0.99204822  0.99489526]\n",
        "[[ 1.  1.  1.]\n",
        " [ 1.  1.  1.]\n",
        " [ 1.  1.  1.]]\n"
       ]
      }
     ],
     "prompt_number": 4
    }
   ],
   "metadata": {}
  }
 ]
}