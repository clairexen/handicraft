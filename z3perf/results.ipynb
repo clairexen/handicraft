{
 "cells": [
  {
   "cell_type": "code",
   "execution_count": null,
   "metadata": {
    "collapsed": true
   },
   "outputs": [],
   "source": [
    "%matplotlib inline\n",
    "import matplotlib.pyplot as plt\n",
    "import numpy as np"
   ]
  },
  {
   "cell_type": "code",
   "execution_count": null,
   "metadata": {
    "collapsed": false
   },
   "outputs": [],
   "source": [
    "with open(\"runtests.dat\", \"r\") as f:\n",
    "    data = f.readlines()\n",
    "\n",
    "data = [line.split() for line in data if line != \"\"]\n",
    "data = [(float(line[0]) / 1024, float(line[1]), line[3]) for line in data]\n",
    "\n",
    "X = np.arange(1, 9)\n",
    "test1_Y = np.array([(line[0], line[1]) for line in data if line[2] == \"test1\"])\n",
    "test2_Y = np.array([(line[0], line[1]) for line in data if line[2] == \"test2\"])\n",
    "test3_Y = np.array([(line[0], line[1]) for line in data if line[2] == \"test3\"])\n",
    "shuffle_Y = np.array([(line[0], line[1]) for line in data if line[2] == \"shuffle\"])"
   ]
  },
  {
   "cell_type": "code",
   "execution_count": null,
   "metadata": {
    "collapsed": false
   },
   "outputs": [],
   "source": [
    "plt.figure(figsize=(7, 6))\n",
    "plt.subplot(211)\n",
    "\n",
    "plt.plot(X, test1_Y[:, 1], label=\"test1\")\n",
    "plt.plot(X, test2_Y[:, 1], label=\"test2\")\n",
    "plt.plot(X, test3_Y[:, 1], label=\"test3\")\n",
    "plt.plot(X, shuffle_Y[:, 1], label=\"shuffle\")\n",
    "plt.xlim([0.5, 10.5])\n",
    "plt.ylabel(\"time [seconds]\")\n",
    "plt.legend()\n",
    "\n",
    "plt.subplot(212)\n",
    "\n",
    "plt.plot(X, test1_Y[:, 0], label=\"test1\")\n",
    "plt.plot(X, test2_Y[:, 0], label=\"test2\")\n",
    "plt.plot(X, test3_Y[:, 0], label=\"test3\")\n",
    "plt.plot(X, shuffle_Y[:, 0], label=\"shuffle\")\n",
    "plt.xlim([0.5, 10.5])\n",
    "plt.xlabel(\"random-seed\")\n",
    "plt.ylabel(\"memory [MB]\")\n",
    "plt.legend()\n",
    "\n",
    "plt.show()"
   ]
  }
 ],
 "metadata": {
  "kernelspec": {
   "display_name": "Python 3",
   "language": "python",
   "name": "python3"
  },
  "language_info": {
   "codemirror_mode": {
    "name": "ipython",
    "version": 3
   },
   "file_extension": ".py",
   "mimetype": "text/x-python",
   "name": "python",
   "nbconvert_exporter": "python",
   "pygments_lexer": "ipython3",
   "version": "3.5.2"
  }
 },
 "nbformat": 4,
 "nbformat_minor": 1
}
