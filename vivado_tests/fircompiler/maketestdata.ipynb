{
 "metadata": {
  "name": ""
 },
 "nbformat": 3,
 "nbformat_minor": 0,
 "worksheets": [
  {
   "cells": [
    {
     "cell_type": "code",
     "collapsed": false,
     "input": [
      "%pylab inline\n",
      "from __future__ import division\n",
      "from __future__ import print_function\n",
      "np.random.seed(23)"
     ],
     "language": "python",
     "metadata": {},
     "outputs": []
    },
    {
     "cell_type": "code",
     "collapsed": false,
     "input": [
      "# fake system response\n",
      "sr = np.zeros(4096)\n",
      "for i in range(30):\n",
      "    center = int(np.random.uniform(50, 4096-50))\n",
      "    for k in range(center-20, center+20):\n",
      "        if 0 <= k and k < 4096: sr[k] += 1000\n",
      "for i in range(30):\n",
      "    center = int(np.random.uniform(50, 4096-50))\n",
      "    for k in range(center-20, center+20):\n",
      "        if 0 <= k and k < 4096: sr[k] -= 1000\n",
      "\n",
      "# smoothen waveform\n",
      "sr_F = np.fft.rfft(sr)\n",
      "for i in range(128, 2048):\n",
      "    sr_F[i] *= 128.0/i\n",
      "sr = np.fft.irfft(sr_F)\n",
      "\n",
      "# create noisy downsampled test response\n",
      "tr = np.array(sr[0:4096:4])\n",
      "tr += np.random.normal(0, 100, 1024)\n",
      "\n",
      "# plot system response\n",
      "figure(figsize=(15,5))\n",
      "title('System Response (SR)')\n",
      "plot(sr)\n",
      "\n",
      "# plot test rersponse\n",
      "figure(figsize=(15,5))\n",
      "title('Test Response (TR)')\n",
      "plot(tr)"
     ],
     "language": "python",
     "metadata": {},
     "outputs": []
    },
    {
     "cell_type": "code",
     "collapsed": false,
     "input": [
      "# interpolate tr\n",
      "ir = np.interp(np.arange(0, 4096), np.arange(0, 4096, 4), tr)\n",
      "\n",
      "# plot IR over SR\n",
      "figure(figsize=(15,5))\n",
      "title('IR over SR')\n",
      "plot(ir)\n",
      "plot(sr)"
     ],
     "language": "python",
     "metadata": {},
     "outputs": []
    },
    {
     "cell_type": "code",
     "collapsed": false,
     "input": [
      "# perform convolution\n",
      "sr_F = np.fft.rfft(sr[::-1])\n",
      "ir_F = np.fft.rfft(ir)\n",
      "xr_F = sr_F * ir_F\n",
      "xr = np.fft.irfft(xr_F)\n",
      "\n",
      "# plot cross correlation\n",
      "figure(figsize=(15,5))\n",
      "title('SR vs. IR Cross Correlation')\n",
      "plot(xr)\n",
      "\n",
      "# plot signals\n",
      "off = np.argmax(xr)\n",
      "figure(figsize=(15,5))\n",
      "title('Correlated signals (off=%d)' % off)\n",
      "ir_shifted = np.hstack([ir[off:], ir[:off]])\n",
      "plot(sr)\n",
      "plot(ir_shifted)"
     ],
     "language": "python",
     "metadata": {},
     "outputs": []
    },
    {
     "cell_type": "code",
     "collapsed": false,
     "input": [
      "f = open('fircoeff.coe', 'w')\n",
      "print('radix=10;', file=f)\n",
      "print('coefdata=%s;' % ','.join(['%.3f' % v for v in sr[::-1]]), file=f)\n",
      "f.close()\n",
      "\n",
      "f = open('samples_in.txt', 'w')\n",
      "for v in tr:\n",
      "    print('%d' % v, file=f)\n",
      "f.close()\n",
      "\n",
      "f = open('samples_out.txt', 'w')\n",
      "for v in xr:\n",
      "    print('%d' % v, file=f)\n",
      "f.close()"
     ],
     "language": "python",
     "metadata": {},
     "outputs": []
    },
    {
     "cell_type": "code",
     "collapsed": false,
     "input": [],
     "language": "python",
     "metadata": {},
     "outputs": []
    }
   ],
   "metadata": {}
  }
 ]
}