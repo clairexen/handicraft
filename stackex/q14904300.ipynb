{
 "metadata": {
  "name": ""
 },
 "nbformat": 3,
 "nbformat_minor": 0,
 "worksheets": [
  {
   "cells": [
    {
     "cell_type": "code",
     "collapsed": false,
     "input": [
      "%pylab inline\n",
      "from __future__ import division\n",
      "from __future__ import print_function\n",
      "import pycosat\n",
      "import copy"
     ],
     "language": "python",
     "metadata": {},
     "outputs": [
      {
       "output_type": "stream",
       "stream": "stdout",
       "text": [
        "Populating the interactive namespace from numpy and matplotlib\n"
       ]
      }
     ],
     "prompt_number": 1
    },
    {
     "cell_type": "code",
     "collapsed": false,
     "input": [
      "N=16 # number of nodes\n",
      "M=24 # number of edges\n",
      "\n",
      "connectivity = [\n",
      "    ( 0,  1), # edge E0\n",
      "    ( 1,  2), # edge E1\n",
      "    ( 2,  3), # edge E2\n",
      "    ( 0,  4), # edge E3\n",
      "    ( 1,  5), # edge E4\n",
      "    ( 2,  6), # edge E5\n",
      "    ( 3,  7), # edge E6\n",
      "    ( 4,  5), # edge E7\n",
      "    ( 5,  6), # edge E8\n",
      "    ( 6,  7), # edge E9\n",
      "    ( 4,  8), # edge E10\n",
      "    ( 5,  9), # edge E11\n",
      "    ( 6, 10), # edge E12\n",
      "    ( 7, 11), # edge E13\n",
      "    ( 8,  9), # edge E14\n",
      "    ( 9, 10), # edge E15\n",
      "    (10, 11), # edge E16\n",
      "    ( 8, 12), # edge E17\n",
      "    ( 9, 13), # edge E18\n",
      "    (10, 14), # edge E19\n",
      "    (11, 15), # edge E20\n",
      "    (12, 13), # edge E21\n",
      "    (13, 14), # edge E22\n",
      "    (14, 15), # edge E23\n",
      "];"
     ],
     "language": "python",
     "metadata": {},
     "outputs": [],
     "prompt_number": 2
    },
    {
     "cell_type": "code",
     "collapsed": false,
     "input": [
      "base_cnf = list()\n",
      "\n",
      "def edge_state_var(edge_idx):\n",
      "    assert 0 <= edge_idx < M\n",
      "    return 1 + edge_idx\n",
      "\n",
      "def node_state_var(node_idx, bit_idx):\n",
      "    assert 0 <= node_idx < N\n",
      "    assert 0 <=  bit_idx < M\n",
      "    return 1 + M + node_idx*M + bit_idx\n",
      "\n",
      "for i in range(M):\n",
      "    eb = edge_state_var(i)\n",
      "    p, q = connectivity[i]\n",
      "    for k in range(M):\n",
      "        pb = node_state_var(p, k)\n",
      "        qb = node_state_var(q, k)\n",
      "        if k == i:\n",
      "            # eb -> (pb != qb)\n",
      "            base_cnf.append([-eb, -pb, -qb])\n",
      "            base_cnf.append([-eb, +pb, +qb])\n",
      "        else:\n",
      "            # eb -> (pb == qb)\n",
      "            base_cnf.append([-eb, -pb, +qb])\n",
      "            base_cnf.append([-eb, +pb, -qb])            "
     ],
     "language": "python",
     "metadata": {},
     "outputs": [],
     "prompt_number": 3
    },
    {
     "cell_type": "code",
     "collapsed": false,
     "input": [
      "class SimpleLoopFinder:\n",
      "    def __init__(self, E):\n",
      "        self.edges = [ i for i in range(M) if E[i] ]\n",
      "        self.found_loop = False\n",
      "        self.visited_nodes = set()\n",
      "        for i in range(N):\n",
      "            if not i in self.visited_nodes:\n",
      "                if self.worker(-1, i):\n",
      "                    self.found_loop = True\n",
      "                    break\n",
      "    def worker(self, last_edge, cur_node):\n",
      "        self.visited_nodes.add(cur_node)\n",
      "        for i in self.edges:\n",
      "            if i == last_edge:\n",
      "                continue\n",
      "            conn_left, conn_right = connectivity[i]\n",
      "            if cur_node == conn_left:\n",
      "                next_node = conn_right\n",
      "            elif cur_node == conn_right:\n",
      "                next_node = conn_left\n",
      "            else:\n",
      "                continue\n",
      "            if next_node in self.visited_nodes or self.worker(i, next_node):\n",
      "                return True\n",
      "        return False\n",
      "                \n",
      "def test_random_config():\n",
      "    E = np.random.randint(0, 2, M)\n",
      "    lf = SimpleLoopFinder(E)\n",
      "    \n",
      "    cnf = copy.deepcopy(base_cnf)\n",
      "    for i in range(M):\n",
      "        eb = edge_state_var(i)\n",
      "        cnf.append([ eb if E[i] else -eb])\n",
      "    sat_result = pycosat.solve(cnf)\n",
      "    \n",
      "    status = \"%s %s\" % (\"Loop\" if lf.found_loop else \"NoLoop\", \"UNSAT\" if sat_result == \"UNSAT\" else \"SAT\")\n",
      "    status_ok = status == \"NoLoop SAT\" or status == \"Loop UNSAT\"\n",
      "    print(E, status, \"OK\" if status_ok else \"ERROR\")\n",
      "    assert status_ok"
     ],
     "language": "python",
     "metadata": {},
     "outputs": [],
     "prompt_number": 4
    },
    {
     "cell_type": "code",
     "collapsed": false,
     "input": [
      "for i in range(100): test_random_config()"
     ],
     "language": "python",
     "metadata": {},
     "outputs": [
      {
       "output_type": "stream",
       "stream": "stdout",
       "text": [
        "[0 1 1 1 0 0 1 0 0 0 1 0 0 1 0 1 0 0 1 1 0 0 1 1] Loop UNSAT OK\n",
        "[1 0 1 1 0 0 1 1 1 1 1 1 1 1 1 1 0 1 0 0 1 0 0 1] Loop UNSAT OK\n",
        "[1 1 1 0 0 1 1 0 0 1 1 0 0 1 1 1 1 1 1 1 0 1 1 1] Loop UNSAT OK\n",
        "[1 0 0 1 0 0 0 1 1 0 1 1 0 0 0 1 1 1 0 1 0 0 0 1] NoLoop SAT OK\n",
        "[1 1 1 1 1 1 1 1 0 0 0 1 1 1 1 0 0 0 0 1 0 1 1 0] Loop UNSAT OK\n",
        "[1 1 0 1 1 1 1 1 1 1 0 0 0 0 1 0 0 1 1 0 0 1 0 0] Loop UNSAT OK\n",
        "[0 0 0 0 0 0 0 0 0 0 1 0 1 1 0 0 1 0 1 0 0 0 0 0]"
       ]
      },
      {
       "output_type": "stream",
       "stream": "stdout",
       "text": [
        " NoLoop SAT OK\n",
        "[0 0 1 1 1 1 0 1 1 0 1 1 0 0 0 1 0 0 1 0 1 1 1 1] NoLoop SAT OK\n",
        "[0 0 1 1 0 0 0 0 0 1 0 0 1 1 1 0 0 1 0 1 0 0 0 0] NoLoop SAT OK\n",
        "[1 1 1 1 0 0 0 0 0 0 1 1 1 0 0 0 1 1 1 0 1 0 1 0] NoLoop SAT OK\n",
        "[0 0 0 1 1 0 0 0 1 0 0 1 0 0 0 1 0 0 1 0 0 0 1 1] NoLoop SAT OK\n",
        "[0 0 1 0 1 0 1 1 0 0 1 1 1 0 0 1 0 0 1 1 0 1 0 1]"
       ]
      },
      {
       "output_type": "stream",
       "stream": "stdout",
       "text": [
        " NoLoop SAT OK\n",
        "[1 0 1 0 0 0 1 1 1 0 1 0 1 0 0 1 1 1 0 0 1 0 0 0] NoLoop SAT OK\n",
        "[1 0 0 1 1 0 1 0 0 1 0 0 0 0 1 1 0 1 1 0 1 0 1 1] NoLoop SAT OK\n",
        "[0 1 0 0 0 0 0 0 0 1 0 0 0 1 1 0 1 0 1 0 1 1 1 0] NoLoop SAT OK\n",
        "[1 1 1 1 1 0 0 0 1 0 1 0 1 1 1 1 1 1 0 0 1 1 0 0] Loop UNSAT OK\n",
        "[0 0 0 1 1 0 0 1 0 0 1 1 1 0 1 1 1 1 0 1 0 0 1 1]"
       ]
      },
      {
       "output_type": "stream",
       "stream": "stdout",
       "text": [
        " Loop UNSAT OK\n",
        "[1 0 1 1 0 0 1 1 0 0 0 0 1 1 0 0 0 1 0 1 0 0 0 1] NoLoop SAT OK\n",
        "[1 1 1 1 1 0 0 1 1 0 1 1 1 0 0 0 1 0 0 0 1 0 0 0] Loop UNSAT OK\n",
        "[1 1 0 0 1 1 1 1 1 0 0 0 0 1 1 1 1 0 0 0 0 0 0 0] Loop UNSAT OK\n",
        "[0 0 1 1 0 1 0 0 0 0 1 0 1 0 1 1 1 1 1 0 1 0 1 0] NoLoop SAT OK\n",
        "[0 1 0 0 0 0 0 1 1 1 0 0 1 0 0 0 0 0 1 0 1 1 1 0]"
       ]
      },
      {
       "output_type": "stream",
       "stream": "stdout",
       "text": [
        " NoLoop SAT OK\n",
        "[0 1 0 1 1 0 1 0 0 0 1 0 1 0 0 0 1 0 0 0 0 0 1 1] NoLoop SAT OK\n",
        "[1 1 1 1 0 1 0 1 0 1 1 0 0 0 1 1 1 0 1 1 0 0 1 0] Loop UNSAT OK\n",
        "[0 1 1 1 0 1 0 0 1 1 1 1 0 1 0 1 1 0 1 0 0 0 1 0] Loop UNSAT OK\n",
        "[0 1 0 0 1 0 0 1 0 1 0 1 1 0 0 0 1 1 0 0 1 1 0 1] NoLoop SAT OK\n",
        "[0 0 1 0 0 0 1 1 1 0 1 0 0 0 0 1 0 0 0 0 1 0 0 0]"
       ]
      },
      {
       "output_type": "stream",
       "stream": "stdout",
       "text": [
        " NoLoop SAT OK\n",
        "[0 1 1 0 1 0 1 1 1 1 1 1 1 1 0 1 0 1 1 1 1 0 1 1] Loop UNSAT OK\n",
        "[0 0 0 0 0 1 0 1 0 1 1 0 0 0 1 1 0 1 1 0 1 0 0 0] NoLoop SAT OK\n",
        "[0 0 0 0 0 1 1 0 1 0 0 0 0 0 0 0 1 0 0 1 1 1 0 1] Loop UNSAT OK\n",
        "[0 1 1 0 0 1 0 1 1 0 0 1 0 0 1 0 1 0 0 1 0 1 0 0] NoLoop SAT OK\n",
        "[0 0 0 1 1 0 0 0 0 0 0 1 0 0 0 1 1 1 1 0 1 0 0 0] NoLoop SAT OK\n",
        "[1 0 0 1 1 0 1 0 0 0 1 0 1 1 0 0 0 0 0 1 0 1 1 1]"
       ]
      },
      {
       "output_type": "stream",
       "stream": "stdout",
       "text": [
        " NoLoop SAT OK\n",
        "[1 1 0 1 0 1 0 1 0 0 1 0 1 1 0 1 1 1 0 1 0 0 0 1] NoLoop SAT OK\n",
        "[0 1 1 1 1 0 1 1 0 0 0 1 0 0 0 0 0 1 0 0 0 1 0 1] NoLoop SAT OK\n",
        "[1 0 1 1 1 1 1 0 0 1 1 0 1 0 0 0 0 0 0 0 0 0 0 1] Loop UNSAT OK\n",
        "[1 0 1 0 1 0 0 1 0 1 1 0 1 1 0 0 0 0 0 0 0 1 1 1] NoLoop SAT OK\n",
        "[0 0 1 1 1 0 0 0 1 0 0 0 0 1 1 0 0 1 1 1 0 0 1 0]"
       ]
      },
      {
       "output_type": "stream",
       "stream": "stdout",
       "text": [
        " NoLoop SAT OK\n",
        "[0 1 0 1 0 1 0 0 1 0 0 0 0 0 0 0 0 1 0 1 0 0 1 1] NoLoop SAT OK\n",
        "[1 1 0 0 1 1 1 0 1 1 0 1 1 1 1 1 0 1 1 1 0 0 1 0] Loop UNSAT OK\n",
        "[0 0 1 0 0 1 0 0 0 0 1 0 1 0 1 1 1 0 0 1 1 0 1 0] NoLoop SAT OK\n",
        "[0 0 0 1 1 0 0 1 1 1 1 1 1 0 0 1 0 1 0 0 1 1 0 0] Loop UNSAT OK\n",
        "[1 1 1 0 0 1 0 1 1 1 0 1 0 1 0 0 0 0 1 1 0 1 0 1]"
       ]
      },
      {
       "output_type": "stream",
       "stream": "stdout",
       "text": [
        " NoLoop SAT OK\n",
        "[1 0 1 1 0 0 0 1 0 0 0 0 1 1 1 0 0 0 0 1 1 0 0 0] NoLoop SAT OK\n",
        "[1 1 1 1 1 0 1 0 1 0 1 0 1 0 0 0 1 0 1 1 0 1 1 1] NoLoop SAT OK\n",
        "[0 0 1 1 1 1 1 0 0 1 0 0 1 0 0 1 0 1 0 0 1 1 1 0] Loop UNSAT OK\n",
        "[0 0 1 1 0 1 1 1 1 0 1 1 0 1 1 1 0 0 1 0 0 1 0 0] Loop UNSAT OK\n",
        "[1 1 1 0 0 0 0 0 0 0 1 0 1 0 0 0 0 1 1 1 0 1 1 0]"
       ]
      },
      {
       "output_type": "stream",
       "stream": "stdout",
       "text": [
        " NoLoop SAT OK\n",
        "[1 0 1 1 1 0 0 1 1 1 1 0 1 1 0 0 0 1 0 1 1 0 1 1] Loop UNSAT OK\n",
        "[1 1 1 0 1 1 1 0 1 0 0 0 0 1 1 1 1 1 1 1 1 0 1 0] Loop UNSAT OK\n",
        "[0 1 0 0 1 1 1 0 1 1 0 0 1 1 1 0 1 0 0 1 1 0 1 0] Loop UNSAT OK\n",
        "[1 0 0 1 1 1 1 1 0 0 0 0 0 0 1 1 0 1 0 1 1 0 1 0] Loop UNSAT OK\n",
        "[0 0 0 1 1 1 0 1 0 0 0 0 0 0 0 1 0 0 0 0 1 0 1 1]"
       ]
      },
      {
       "output_type": "stream",
       "stream": "stdout",
       "text": [
        " NoLoop SAT OK\n",
        "[1 0 0 0 0 1 1 1 1 1 0 1 1 0 1 1 1 1 1 0 0 0 0 1] Loop UNSAT OK\n",
        "[0 0 1 0 1 1 1 0 0 1 1 0 0 0 1 1 0 0 0 0 1 0 1 0] Loop UNSAT OK\n",
        "[1 0 0 1 1 0 0 1 1 1 1 1 0 1 1 0 1 0 1 0 0 0 1 1] Loop UNSAT OK\n",
        "[1 0 1 0 1 0 1 1 1 1 1 1 0 0 0 1 1 0 1 1 0 1 1 1] Loop UNSAT OK\n",
        "[1 0 1 0 1 1 0 0 1 0 0 1 1 1 1 1 1 1 0 1 1 1 1 1] Loop UNSAT OK\n",
        "[1 1 1 0 1 1 0 1 0 1 0 0 0 1 1 1 0 1 1 0 1 0 0 1]"
       ]
      },
      {
       "output_type": "stream",
       "stream": "stdout",
       "text": [
        " NoLoop SAT OK\n",
        "[0 0 0 1 1 1 1 1 1 1 1 0 0 1 0 0 0 1 1 1 0 0 0 0] NoLoop SAT OK\n",
        "[0 1 0 1 0 0 0 1 0 1 0 1 0 0 0 1 1 0 1 1 0 0 1 0] Loop UNSAT OK\n",
        "[1 0 1 1 0 1 1 0 0 0 0 0 1 1 0 1 0 1 0 0 1 1 0 1] NoLoop SAT OK\n",
        "[1 0 1 1 0 0 1 0 0 1 1 1 0 1 1 1 1 0 1 1 0 0 1 0] Loop UNSAT OK\n",
        "[1 0 0 1 1 0 1 0 1 0 1 0 0 0 1 0 0 0 1 1 1 1 1 0] NoLoop SAT OK\n",
        "[1 1 1 1 1 1 1 1 1 0 0 0 1 0 1 0 0 1 1 0 1 0 1 0]"
       ]
      },
      {
       "output_type": "stream",
       "stream": "stdout",
       "text": [
        " Loop UNSAT OK\n",
        "[1 0 0 0 1 1 1 0 0 0 1 1 0 0 1 1 1 0 0 1 1 1 1 0] NoLoop SAT OK\n",
        "[1 0 0 1 0 1 0 0 0 0 1 1 0 0 0 0 0 1 0 0 0 0 0 0] NoLoop SAT OK\n",
        "[1 1 0 1 1 1 1 0 1 0 1 0 0 0 0 1 1 0 0 0 0 0 1 1] Loop UNSAT OK\n",
        "[1 0 1 1 0 1 0 1 1 0 0 1 1 0 1 1 1 1 0 1 1 1 0 1] Loop UNSAT OK\n",
        "[0 1 1 0 0 0 0 0 0 1 0 1 0 1 1 0 0 0 0 0 1 0 1 0]"
       ]
      },
      {
       "output_type": "stream",
       "stream": "stdout",
       "text": [
        " NoLoop SAT OK\n",
        "[0 1 1 0 0 0 1 1 0 1 0 1 0 1 1 1 1 1 1 1 1 1 0 0] Loop UNSAT OK\n",
        "[1 0 0 1 0 0 0 1 0 1 0 0 1 1 0 0 1 0 0 1 1 0 1 0] Loop UNSAT OK\n",
        "[0 1 1 0 0 1 0 0 0 0 0 1 0 1 1 0 0 0 0 0 1 1 0 1] NoLoop SAT OK\n",
        "[1 1 1 0 0 0 1 1 1 1 0 1 0 0 0 0 0 0 0 0 0 0 1 0] NoLoop SAT OK\n",
        "[0 0 1 0 1 0 1 1 0 0 0 1 0 1 1 0 1 1 1 1 0 1 0 1]"
       ]
      },
      {
       "output_type": "stream",
       "stream": "stdout",
       "text": [
        " Loop UNSAT OK\n",
        "[0 1 1 0 1 0 1 0 0 1 0 1 0 1 0 0 1 0 1 1 0 0 1 0] Loop UNSAT OK\n",
        "[1 0 1 1 1 0 1 1 1 1 0 1 1 1 1 0 0 0 0 0 0 0 1 0] Loop UNSAT OK\n",
        "[0 0 1 0 0 0 1 0 1 1 1 0 0 1 1 1 1 0 1 0 0 0 1 1] NoLoop SAT OK\n",
        "[0 0 0 0 0 0 1 0 0 1 1 1 1 1 1 0 1 0 1 0 0 0 0 1] Loop UNSAT OK\n",
        "[1 0 0 0 0 0 1 0 1 0 0 0 0 0 0 0 1 0 1 1 0 1 0 0]"
       ]
      },
      {
       "output_type": "stream",
       "stream": "stdout",
       "text": [
        " NoLoop SAT OK\n",
        "[0 0 0 1 0 0 0 0 1 1 0 0 0 0 1 1 0 1 0 0 1 1 1 0] NoLoop SAT OK\n",
        "[0 0 1 0 1 0 1 0 0 1 0 0 1 1 0 1 1 1 1 0 0 1 1 0] Loop UNSAT OK\n",
        "[1 0 0 0 0 0 1 1 1 1 1 1 0 0 1 1 1 1 1 0 0 0 0 1] Loop UNSAT OK\n",
        "[0 1 1 0 0 1 1 0 1 1 1 0 0 0 1 1 0 0 1 1 1 0 0 1] Loop UNSAT OK\n",
        "[1 1 1 0 1 0 1 1 0 1 1 1 1 0 1 0 1 0 0 1 0 1 1 1]"
       ]
      },
      {
       "output_type": "stream",
       "stream": "stdout",
       "text": [
        " Loop UNSAT OK\n",
        "[0 0 1 1 1 1 1 1 0 1 1 0 0 0 0 1 1 0 0 1 1 0 0 0] Loop UNSAT OK\n",
        "[0 1 0 0 0 0 1 0 1 1 1 1 1 0 1 0 1 1 1 0 1 1 1 1] Loop UNSAT OK\n",
        "[1 1 1 0 1 1 0 0 1 0 1 1 0 1 0 0 1 1 1 1 0 1 0 1] Loop UNSAT OK\n",
        "[1 0 0 0 0 0 0 0 1 0 1 0 1 0 0 1 0 1 1 0 1 0 0 1] NoLoop SAT OK\n",
        "[0 0 0 1 1 1 1 1 0 0 1 1 1 1 1 0 1 0 0 0 0 1 1 1]"
       ]
      },
      {
       "output_type": "stream",
       "stream": "stdout",
       "text": [
        " Loop UNSAT OK\n",
        "[1 0 1 0 1 0 0 0 0 1 0 1 0 1 1 1 0 0 1 0 0 0 0 0] NoLoop SAT OK\n",
        "[0 0 1 0 1 0 1 0 1 0 0 1 0 1 1 0 1 1 0 1 0 1 0 1] NoLoop SAT OK\n",
        "[1 0 1 0 1 0 0 0 0 0 1 0 0 0 1 1 0 1 0 1 0 1 0 0] NoLoop SAT OK\n",
        "[0 1 1 0 0 1 1 0 0 0 1 0 1 0 0 1 1 0 0 0 1 1 0 1] NoLoop SAT OK\n",
        "[1 0 1 0 0 0 0 1 0 1 1 1 0 1 1 1 1 1 0 0 1 0 1 1]"
       ]
      },
      {
       "output_type": "stream",
       "stream": "stdout",
       "text": [
        " Loop UNSAT OK\n",
        "[0 1 0 1 1 1 0 0 1 0 0 0 1 0 1 0 1 1 1 1 1 1 0 0] Loop UNSAT OK\n",
        "[0 0 1 1 0 0 0 1 1 1 0 1 0 1 0 1 0 1 1 0 1 1 0 1] NoLoop SAT OK\n",
        "[0 1 0 1 1 1 1 1 1 0 1 1 0 1 0 0 0 1 0 0 0 0 0 1] Loop UNSAT OK\n",
        "[1 0 1 0 0 0 1 0 0 1 1 1 0 1 1 0 0 0 1 1 1 1 0 0] NoLoop SAT OK\n",
        "[0 1 0 1 0 0 1 0 1 1 0 1 0 1 0 0 0 0 1 1 0 0 1 0]"
       ]
      },
      {
       "output_type": "stream",
       "stream": "stdout",
       "text": [
        " NoLoop SAT OK\n"
       ]
      }
     ],
     "prompt_number": 5
    }
   ],
   "metadata": {}
  }
 ]
}